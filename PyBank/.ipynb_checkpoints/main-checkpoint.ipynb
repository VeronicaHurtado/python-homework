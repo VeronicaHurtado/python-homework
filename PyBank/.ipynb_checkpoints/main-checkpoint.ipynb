{
 "cells": [
  {
   "cell_type": "code",
   "execution_count": 194,
   "id": "af52e3d8-7cb0-4159-b093-ea7faf710cac",
   "metadata": {},
   "outputs": [],
   "source": [
    "# Import the pathlib and csv libraries\n",
    "from pathlib import Path\n",
    "import csv\n",
    "import functions"
   ]
  },
  {
   "cell_type": "code",
   "execution_count": 195,
   "id": "43de3ae4-1a88-48b1-ae5c-5ecd5a288318",
   "metadata": {},
   "outputs": [],
   "source": [
    "# Set the file path\n",
    "csvpath = Path('Resources/budget_data.csv')"
   ]
  },
  {
   "cell_type": "code",
   "execution_count": 196,
   "id": "bc16006f-71de-4b66-a039-cd0490125b88",
   "metadata": {},
   "outputs": [],
   "source": [
    "# Initialise variables\n",
    "months_count = 0 # The total number of months included in the dataset\n",
    "total_amount = 0 # The net total amount of Profit/Losses over the entire period\n",
    "avg_change = 0.0 # The average of the changes in Profit/Losses over the entire period\n",
    "great_increase = {'date':'', 'amount':0} # The greatest increase in profits (date and amount) over the entire period\n",
    "great_decrease = {'date':'', 'amount':0} # The greatest decrease in losses (date and amount) over the entire period\n",
    "budget_data = {} # Dictionary to store data from the csv file\n",
    "previous_month_pnl = 0 # Variable to keep track of the previous month pnl\n",
    "historical_change = [] # List to store change over time"
   ]
  },
  {
   "cell_type": "code",
   "execution_count": 197,
   "id": "4ca194d3-3d7d-4cbc-9a24-e5959ad06b34",
   "metadata": {
    "tags": []
   },
   "outputs": [],
   "source": [
    "# Open the input path as a file object\n",
    "with open(csvpath, 'r') as csvfile:\n",
    "\n",
    "    # Pass in the csv file to the csv.reader() function\n",
    "    # (with ',' as the delimiter) and return the csvreader object\n",
    "    csvreader = csv.reader(csvfile, delimiter=',')\n",
    "\n",
    "    # Go to the next row from the start of the file\n",
    "    # to skip the header\n",
    "    header = next(csvreader)\n",
    "\n",
    "    # Read each row of data after the header\n",
    "    for row in csvreader:\n",
    "        # Print the row\n",
    "        # print(row)\n",
    "        # Transfer data to the budget_data dictionary\n",
    "        budget_data[row[0]] = int(row[1])"
   ]
  },
  {
   "cell_type": "code",
   "execution_count": 198,
   "id": "9dd9d3a1-d24b-44f5-a09b-801f5e0bf2c9",
   "metadata": {
    "tags": []
   },
   "outputs": [],
   "source": [
    "# Iterate over each dictionary/month of the budget_data list\n",
    "for date,pnl in budget_data.items():\n",
    "    # Add up 1 to the months count\n",
    "    months_count += 1\n",
    "    # Sum up the pnl to the total_amount\n",
    "    total_amount += pnl\n",
    "    \n",
    "    # Logic to calculate the Monthly Change (prev vs current)\n",
    "    if previous_month_pnl != 0: # Skip the first iteration as there is nothing to compare to\n",
    "        monthly_change = pnl - previous_month_pnl\n",
    "        historical_change.append(monthly_change)\n",
    "        \n",
    "        # Logic to determine Greatest Increase and Greatest Decrease\n",
    "        if great_decrease['amount'] == 0:\n",
    "            great_decrease['amount'] = monthly_change\n",
    "            great_decrease['date'] = date\n",
    "        elif monthly_change < great_decrease['amount']:\n",
    "            great_decrease['amount'] = monthly_change\n",
    "            great_decrease['date'] = date\n",
    "        elif monthly_change > great_increase['amount']:\n",
    "            great_increase['amount'] = monthly_change\n",
    "            great_increase['date'] = date\n",
    "    \n",
    "    # Update previous_month_pnl after Change calculation\n",
    "    previous_month_pnl = pnl"
   ]
  },
  {
   "cell_type": "code",
   "execution_count": 199,
   "id": "01062c88-8861-4b79-909f-06d4c335f29d",
   "metadata": {},
   "outputs": [
    {
     "name": "stdout",
     "output_type": "stream",
     "text": [
      "-2315.12\n"
     ]
    }
   ],
   "source": [
    "# Calculate the Average Change, round to the nearest 2 decimal places\n",
    "avg_change = round(sum(historical_change) / len(historical_change), 2)\n",
    "print(avg_change)"
   ]
  },
  {
   "cell_type": "code",
   "execution_count": 200,
   "id": "919c151f-60cf-44da-89db-081d724a6f03",
   "metadata": {},
   "outputs": [],
   "source": [
    "# Save results to a List\n",
    "results_report = [] # Initialise list to save report data\n",
    "results_report.append('Financial Analysis') # Header\n",
    "results_report.append('---------------------------------------------------')\n",
    "results_report.append(f'Total months: {months_count}')\n",
    "results_report.append(f'Total: ${total_amount}')\n",
    "results_report.append(f'Average Change: ${avg_change:.2f}')\n",
    "results_report.append(f'Greatest Increase in Profits: {great_increase[\"date\"]} (${great_increase[\"amount\"]})')\n",
    "results_report.append(f'Greatest Decrease in Profits: {great_decrease[\"date\"]} (${great_decrease[\"amount\"]})')"
   ]
  },
  {
   "cell_type": "code",
   "execution_count": 201,
   "id": "54dbceca-0aa2-408a-9003-00a1505e62fc",
   "metadata": {},
   "outputs": [
    {
     "name": "stdout",
     "output_type": "stream",
     "text": [
      "<class '_io.TextIOWrapper'>\n",
      "Financial Analysis\n",
      "---------------------------------------------------\n",
      "Total months: 86\n",
      "Total: $38382578\n",
      "Average Change: $-2315.12\n",
      "Greatest Increase in Profits: Feb-2012 ($1926159)\n",
      "Greatest Decrease in Profits: Sep-2013 ($-2196167)\n"
     ]
    }
   ],
   "source": [
    "# Generate report and print the metrics\n",
    "\n",
    "# Set the output file path\n",
    "output_path = Path('output.txt')\n",
    "\n",
    "# Open the output_path as a file object in \"write\" mode ('w')\n",
    "with open(output_path, 'w') as file:\n",
    "    # print(type(file))\n",
    "    for record in results_report:\n",
    "        print(record)\n",
    "        functions.write_to_file(file, record)"
   ]
  }
 ],
 "metadata": {
  "kernelspec": {
   "display_name": "Python 3 (ipykernel)",
   "language": "python",
   "name": "python3"
  },
  "language_info": {
   "codemirror_mode": {
    "name": "ipython",
    "version": 3
   },
   "file_extension": ".py",
   "mimetype": "text/x-python",
   "name": "python",
   "nbconvert_exporter": "python",
   "pygments_lexer": "ipython3",
   "version": "3.7.13"
  }
 },
 "nbformat": 4,
 "nbformat_minor": 5
}
