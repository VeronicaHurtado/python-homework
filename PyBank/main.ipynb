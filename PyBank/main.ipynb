{
 "cells": [
  {
   "cell_type": "code",
   "execution_count": 2,
   "id": "af52e3d8-7cb0-4159-b093-ea7faf710cac",
   "metadata": {},
   "outputs": [],
   "source": [
    "# Import the pathlib and csv libraries\n",
    "from pathlib import Path\n",
    "import csv"
   ]
  },
  {
   "cell_type": "code",
   "execution_count": 8,
   "id": "43de3ae4-1a88-48b1-ae5c-5ecd5a288318",
   "metadata": {},
   "outputs": [],
   "source": [
    "# Set the file path\n",
    "csvpath = Path('Resources/budget_data.csv')"
   ]
  },
  {
   "cell_type": "code",
   "execution_count": 146,
   "id": "bc16006f-71de-4b66-a039-cd0490125b88",
   "metadata": {},
   "outputs": [],
   "source": [
    "# Initialise variables\n",
    "months_count = 0 # The total number of months included in the dataset\n",
    "total_amount = 0 # The net total amount of Profit/Losses over the entire period\n",
    "avg_change = 0.0 # The average of the changes in Profit/Losses over the entire period\n",
    "great_increase = {'date':'', 'amount':0} # The greatest increase in profits (date and amount) over the entire period\n",
    "great_decrease = {'date':'', 'amount':0} # The greatest decrease in losses (date and amount) over the entire period\n",
    "budget_data = {} # Dictionary to store data from the csv file\n",
    "previous_month_pnl = 0 # Variable to keep track of the previous month pnl\n",
    "accum_change = 0 # Accumulated Change\n",
    "historical_change = [] # List to store change over time"
   ]
  },
  {
   "cell_type": "code",
   "execution_count": 147,
   "id": "4ca194d3-3d7d-4cbc-9a24-e5959ad06b34",
   "metadata": {
    "tags": []
   },
   "outputs": [],
   "source": [
    "# Open the input path as a file object\n",
    "with open(csvpath, 'r') as csvfile:\n",
    "\n",
    "    # Pass in the csv file to the csv.reader() function\n",
    "    # (with ',' as the delimiter) and return the csvreader object\n",
    "    csvreader = csv.reader(csvfile, delimiter=',')\n",
    "\n",
    "    # Go to the next row from the start of the file\n",
    "    # to skip the header\n",
    "    header = next(csvreader)\n",
    "\n",
    "    # Read each row of data after the header\n",
    "    for row in csvreader:\n",
    "        # Print the row\n",
    "        # print(row)\n",
    "        # Transfer data to the budget_data dictionary\n",
    "        budget_data[row[0]] = int(row[1])"
   ]
  },
  {
   "cell_type": "code",
   "execution_count": 118,
   "id": "40430dfa-4afe-42b7-865a-5b111c4072bd",
   "metadata": {
    "collapsed": true,
    "jupyter": {
     "outputs_hidden": true
    },
    "tags": []
   },
   "outputs": [
    {
     "name": "stdout",
     "output_type": "stream",
     "text": [
      "key Jan-2010 value 867884\n",
      "key Feb-2010 value 984655\n",
      "key Mar-2010 value 322013\n",
      "key Apr-2010 value -69417\n",
      "key May-2010 value 310503\n",
      "key Jun-2010 value 522857\n",
      "key Jul-2010 value 1033096\n",
      "key Aug-2010 value 604885\n",
      "key Sep-2010 value -216386\n",
      "key Oct-2010 value 477532\n",
      "key Nov-2010 value 893810\n",
      "key Dec-2010 value -80353\n",
      "key Jan-2011 value 779806\n",
      "key Feb-2011 value -335203\n",
      "key Mar-2011 value 697845\n",
      "key Apr-2011 value 793163\n",
      "key May-2011 value 485070\n",
      "key Jun-2011 value 584122\n",
      "key Jul-2011 value 62729\n",
      "key Aug-2011 value 668179\n",
      "key Sep-2011 value 899906\n",
      "key Oct-2011 value 834719\n",
      "key Nov-2011 value 132003\n",
      "key Dec-2011 value 309978\n",
      "key Jan-2012 value -755566\n",
      "key Feb-2012 value 1170593\n",
      "key Mar-2012 value 252788\n",
      "key Apr-2012 value 1151518\n",
      "key May-2012 value 817256\n",
      "key Jun-2012 value 570757\n",
      "key Jul-2012 value 506702\n",
      "key Aug-2012 value -1022534\n",
      "key Sep-2012 value 475062\n",
      "key Oct-2012 value 779976\n",
      "key Nov-2012 value 144175\n",
      "key Dec-2012 value 542494\n",
      "key Jan-2013 value 359333\n",
      "key Feb-2013 value 321469\n",
      "key Mar-2013 value 67780\n",
      "key Apr-2013 value 471435\n",
      "key May-2013 value 565603\n",
      "key Jun-2013 value 872480\n",
      "key Jul-2013 value 789480\n",
      "key Aug-2013 value 999942\n",
      "key Sep-2013 value -1196225\n",
      "key Oct-2013 value 268997\n",
      "key Nov-2013 value -687986\n",
      "key Dec-2013 value 1150461\n",
      "key Jan-2014 value 682458\n",
      "key Feb-2014 value 617856\n",
      "key Mar-2014 value 824098\n",
      "key Apr-2014 value 581943\n",
      "key May-2014 value 132864\n",
      "key Jun-2014 value 448062\n",
      "key Jul-2014 value 689161\n",
      "key Aug-2014 value 800701\n",
      "key Sep-2014 value 1166643\n",
      "key Oct-2014 value 947333\n",
      "key Nov-2014 value 578668\n",
      "key Dec-2014 value 988505\n",
      "key Jan-2015 value 1139715\n",
      "key Feb-2015 value 1029471\n",
      "key Mar-2015 value 687533\n",
      "key Apr-2015 value -524626\n",
      "key May-2015 value 158620\n",
      "key Jun-2015 value 87795\n",
      "key Jul-2015 value 423389\n",
      "key Aug-2015 value 840723\n",
      "key Sep-2015 value 568529\n",
      "key Oct-2015 value 332067\n",
      "key Nov-2015 value 989499\n",
      "key Dec-2015 value 778237\n",
      "key Jan-2016 value 650000\n",
      "key Feb-2016 value -1100387\n",
      "key Mar-2016 value -174946\n",
      "key Apr-2016 value 757143\n",
      "key May-2016 value 445709\n",
      "key Jun-2016 value 712961\n",
      "key Jul-2016 value -1163797\n",
      "key Aug-2016 value 569899\n",
      "key Sep-2016 value 768450\n",
      "key Oct-2016 value 102685\n",
      "key Nov-2016 value 795914\n",
      "key Dec-2016 value 60988\n",
      "key Jan-2017 value 138230\n",
      "key Feb-2017 value 671099\n"
     ]
    }
   ],
   "source": [
    "# budget_data.items()\n",
    "# for key,value in budget_data.items():\n",
    "#     print(f'key {key} value {value}')"
   ]
  },
  {
   "cell_type": "code",
   "execution_count": 148,
   "id": "9dd9d3a1-d24b-44f5-a09b-801f5e0bf2c9",
   "metadata": {
    "tags": []
   },
   "outputs": [],
   "source": [
    "# Iterate over each dictionary/month of the budget_data list\n",
    "for date,pnl in budget_data.items():\n",
    "    # Add up 1 to the months count\n",
    "    months_count += 1\n",
    "    # Sum up the pnl to the total_amount\n",
    "    total_amount += pnl\n",
    "\n",
    "    # Logic to determine Greatest Increase and Greatest Decrease\n",
    "    if great_decrease['amount'] == 0:\n",
    "        great_decrease['amount'] = pnl\n",
    "        great_decrease['date'] = date\n",
    "    elif pnl < great_decrease['amount']:\n",
    "        great_decrease['amount'] = pnl\n",
    "        great_decrease['date'] = date\n",
    "    elif pnl > great_increase['amount']:\n",
    "        great_increase['amount'] = pnl\n",
    "        great_increase['date'] = date\n",
    "    \n",
    "    # Logic to calculate the Change (prev vs current)\n",
    "    if previous_month_pnl != 0: # We have to skip the first iteration as dividing by zero results in error (nothing to compare to)\n",
    "        monthly_change = round((pnl - previous_month_pnl) / previous_month_pnl * 100, 2)\n",
    "        historical_change.append(monthly_change)\n",
    "    \n",
    "    # Update previous_month_pnl after Change calculation\n",
    "    previous_month_pnl = pnl"
   ]
  },
  {
   "cell_type": "code",
   "execution_count": 151,
   "id": "01062c88-8861-4b79-909f-06d4c335f29d",
   "metadata": {},
   "outputs": [
    {
     "name": "stdout",
     "output_type": "stream",
     "text": [
      "[13.45, -67.3, -121.56, -547.3, 68.39, 97.59, -41.45, -135.77, -320.69, 87.17, -108.99, -1070.48, -142.99, -308.19, 13.66, -38.84, 20.42, -89.26, 965.18, 34.68, -7.24, -84.19, 134.83, -343.75, -254.93, -78.41, 355.53, -29.03, -30.16, -11.22, -301.8, -146.46, 64.18, -81.52, 276.27, -33.76, -10.54, -78.92, 595.54, 19.97, 54.26, -9.51, 26.66, -219.63, -122.49, -355.76, -267.22, -40.68, -9.47, 33.38, -29.38, -77.17, 237.23, 53.81, 16.18, 45.7, -18.8, -38.92, 70.82, 15.3, -9.67, -33.21, -176.31, -130.23, -44.65, 382.25, 98.57, -32.38, -41.59, 197.98, -21.35, -16.48, -269.29, -84.1, -532.79, -41.13, 59.96, -263.23, -148.97, 34.84, -86.64, 675.1, -92.34, 126.65, 385.49]\n",
      "-2437.1000000000004\n",
      "-28.67\n"
     ]
    }
   ],
   "source": [
    "# Calculate the Average Change\n",
    "print(historical_change)\n",
    "print(accum_change)\n",
    "avg_change = round(sum(historical_change) / len(historical_change), 2)\n",
    "print(avg_change)"
   ]
  },
  {
   "cell_type": "code",
   "execution_count": 152,
   "id": "919c151f-60cf-44da-89db-081d724a6f03",
   "metadata": {},
   "outputs": [
    {
     "name": "stdout",
     "output_type": "stream",
     "text": [
      "Financial Analysis\n",
      "---------------------------------------------------\n",
      "Total months: 86\n",
      "Total: $38382578\n",
      "Average Change: $-28.67 <- WRONG! FixMe!\n",
      "Greatest Increase in Profits: Feb-2012 ($1170593)\n",
      "Greatest Decrease in Profits: Sep-2013 ($-1196225)\n"
     ]
    }
   ],
   "source": [
    "# Print the dictionary\n",
    "# print(budget_data)\n",
    "# Print the metrics\n",
    "print('Financial Analysis')\n",
    "print('---------------------------------------------------')\n",
    "print(f'Total months: {months_count}')\n",
    "print(f'Total: ${total_amount}')\n",
    "print(f'Average Change: ${avg_change:.2f} <- WRONG! FixMe!')\n",
    "print(f'Greatest Increase in Profits: {great_increase[\"date\"]} (${great_increase[\"amount\"]})') #Please note the amount in the Readme is not correct\n",
    "print(f'Greatest Decrease in Profits: {great_decrease[\"date\"]} (${great_decrease[\"amount\"]})') #Please note the amount in the Readme is not correct"
   ]
  },
  {
   "cell_type": "code",
   "execution_count": null,
   "id": "54dbceca-0aa2-408a-9003-00a1505e62fc",
   "metadata": {},
   "outputs": [],
   "source": []
  }
 ],
 "metadata": {
  "kernelspec": {
   "display_name": "Python 3 (ipykernel)",
   "language": "python",
   "name": "python3"
  },
  "language_info": {
   "codemirror_mode": {
    "name": "ipython",
    "version": 3
   },
   "file_extension": ".py",
   "mimetype": "text/x-python",
   "name": "python",
   "nbconvert_exporter": "python",
   "pygments_lexer": "ipython3",
   "version": "3.7.13"
  }
 },
 "nbformat": 4,
 "nbformat_minor": 5
}
